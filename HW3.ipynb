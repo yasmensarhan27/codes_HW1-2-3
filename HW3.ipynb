{
  "nbformat": 4,
  "nbformat_minor": 0,
  "metadata": {
    "colab": {
      "provenance": [],
      "authorship_tag": "ABX9TyPCGnlWHhv/nD9oc3JqpeVa",
      "include_colab_link": true
    },
    "kernelspec": {
      "name": "python3",
      "display_name": "Python 3"
    },
    "language_info": {
      "name": "python"
    }
  },
  "cells": [
    {
      "cell_type": "markdown",
      "metadata": {
        "id": "view-in-github",
        "colab_type": "text"
      },
      "source": [
        "<a href=\"https://colab.research.google.com/github/yasmensarhan27/codes_HW1-2-3/blob/main/HW3.ipynb\" target=\"_parent\"><img src=\"https://colab.research.google.com/assets/colab-badge.svg\" alt=\"Open In Colab\"/></a>"
      ]
    },
    {
      "cell_type": "code",
      "execution_count": 1,
      "metadata": {
        "id": "v6Bit3z8zIXl"
      },
      "outputs": [],
      "source": [
        "#algorithm.py\n",
        "import math\n",
        "\n",
        "def calculate_periodic_time(l):\n",
        "  \"\"\"Calculates the periodic time of a simple pendulum.\n",
        "\n",
        "  Args:\n",
        "    l: The length of the pendulum in meters.\n",
        "\n",
        "  Returns:\n",
        "    The periodic time of the pendulum in seconds.\n",
        "  \"\"\"\n",
        "# Acceleration due to gravity in meters per second squared.\n",
        "  g = 9.81\n",
        "# use lambda function calculate the periodic time where l is the length of the string and return the value calculated\n",
        "  calculate_periodic_time= (lambda l: 2* math.pi/ math.sqrt(g / l))\n",
        "  return calculate_periodic_time\n",
        "\n",
        "__all__=[\"calculate_periodic_time\"]"
      ]
    },
    {
      "cell_type": "code",
      "source": [
        "%%writefile algorithm.py"
      ],
      "metadata": {
        "colab": {
          "base_uri": "https://localhost:8080/"
        },
        "id": "L_5h_RStzJp0",
        "outputId": "10a3973a-c5cc-44c0-b952-26289ae8f5fd"
      },
      "execution_count": 2,
      "outputs": [
        {
          "output_type": "stream",
          "name": "stdout",
          "text": [
            "Writing algorithm.py\n"
          ]
        }
      ]
    },
    {
      "cell_type": "code",
      "source": [
        "import algorithm\n",
        "lengths_list = input(\"Enter a list of length, separated by commas: \")\n",
        "  # Split the user input string into a list.\n",
        "lengths_list = lengths_list.split(\",\")\n",
        "  # Convert the elements of the list to integers\n",
        "integer_list = []\n",
        "for element in lengths_list:\n",
        "  integer_list.append(float(element))\n",
        "    # Print the integer list.\n",
        "print(\"your list of lengths is: \", integer_list,\"meters\")\n",
        "    #--------------------------------------------------------------#\n",
        "    # Use map to apply the lambda function to each length in the list\n",
        "periodic_times = map(calculate_periodic_time(integer_list), integer_list)\n",
        "    # Print the periodic times and round them to 2 sig digits\n",
        "T=[periodic_time for periodic_time in periodic_times]\n",
        "round_time=[round(element,2) for element in T]\n",
        "print(\"periodic times corresporing to the lengths are \", round_time,\"seconds\")\n",
        "\n",
        ""
      ],
      "metadata": {
        "id": "IQ8nnauvzyl7",
        "colab": {
          "base_uri": "https://localhost:8080/"
        },
        "outputId": "b781dc30-8d1e-47a7-a835-3d7163e015d0"
      },
      "execution_count": 3,
      "outputs": [
        {
          "output_type": "stream",
          "name": "stdout",
          "text": [
            "Enter a list of length, separated by commas: 1,2,3,4,5,6\n",
            "your list of lengths is:  [1.0, 2.0, 3.0, 4.0, 5.0, 6.0] meters\n",
            "periodic times corresporing to the lengths are  [2.01, 2.84, 3.47, 4.01, 4.49, 4.91] seconds\n"
          ]
        }
      ]
    }
  ]
}